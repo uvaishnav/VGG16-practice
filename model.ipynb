{
 "cells": [
  {
   "cell_type": "code",
   "execution_count": 1,
   "metadata": {},
   "outputs": [],
   "source": [
    "import os"
   ]
  },
  {
   "cell_type": "code",
   "execution_count": 2,
   "metadata": {},
   "outputs": [
    {
     "name": "stdout",
     "output_type": "stream",
     "text": [
      "['Peach___healthy', 'Peach___Bacterial_spot', '._Peach___healthy', '._Peach___Bacterial_spot']\n"
     ]
    }
   ],
   "source": [
    "print(os.listdir('/Volumes/T7/VGG16 model practice/VGG16-practice/Peach Crop plant Village DS'))\n"
   ]
  },
  {
   "cell_type": "code",
   "execution_count": 3,
   "metadata": {},
   "outputs": [],
   "source": [
    "import tensorflow as tf\n",
    "from tensorflow.keras.preprocessing.image import ImageDataGenerator"
   ]
  },
  {
   "cell_type": "markdown",
   "metadata": {},
   "source": [
    "Cleaning Dataset"
   ]
  },
  {
   "cell_type": "code",
   "execution_count": 5,
   "metadata": {},
   "outputs": [],
   "source": [
    "plant_directory='/Volumes/T7/VGG16 model practice/VGG16-practice/Peach Crop plant Village DS' \n",
    "\n",
    "non_healthy='/Volumes/T7/VGG16 model practice/VGG16-practice/Peach Crop plant Village DS/Peach___Bacterial_spot'\n",
    "for i in os.listdir(non_healthy):\n",
    "    if i.startswith(\"._\"):\n",
    "        file_path = os.path.join(non_healthy, i)\n",
    "        if os.path.exists(file_path):\n",
    "            os.remove(file_path)\n",
    "        else:\n",
    "            print(f\"File '{i}' does not exist.\")\n",
    "\n",
    "healthy='/Volumes/T7/VGG16 model practice/VGG16-practice/Peach Crop plant Village DS/Peach___healthy'\n",
    "for i in os.listdir(healthy):\n",
    "    if i.startswith(\"._\"):\n",
    "        file_path = os.path.join(healthy, i)\n",
    "        if os.path.exists(file_path):\n",
    "            os.remove(file_path)\n",
    "        else:\n",
    "            print(f\"File '{i}' does not exist.\")\n"
   ]
  },
  {
   "cell_type": "markdown",
   "metadata": {},
   "source": [
    "Loading images"
   ]
  },
  {
   "cell_type": "code",
   "execution_count": 6,
   "metadata": {},
   "outputs": [
    {
     "name": "stdout",
     "output_type": "stream",
     "text": [
      "Found 2126 images belonging to 2 classes.\n",
      "Found 531 images belonging to 2 classes.\n"
     ]
    }
   ],
   "source": [
    "\n",
    "\n",
    "datagen=ImageDataGenerator(\n",
    "    rescale=1/255.0,\n",
    "    validation_split=0.2\n",
    ")\n",
    "\n",
    "train_generator=datagen.flow_from_directory(\n",
    "    plant_directory,\n",
    "    target_size=(224,224),\n",
    "    batch_size=64,\n",
    "    class_mode='binary',\n",
    "    subset=\"training\"\n",
    ")\n",
    "\n",
    "test_generator=datagen.flow_from_directory(\n",
    "    plant_directory,\n",
    "    target_size=(224,224),\n",
    "    batch_size=32,\n",
    "    class_mode='binary',\n",
    "    subset='validation'\n",
    ")"
   ]
  },
  {
   "cell_type": "markdown",
   "metadata": {},
   "source": [
    "Defining VGG 16 archetecture"
   ]
  },
  {
   "cell_type": "code",
   "execution_count": 9,
   "metadata": {},
   "outputs": [
    {
     "name": "stdout",
     "output_type": "stream",
     "text": [
      "Model: \"sequential_1\"\n",
      "_________________________________________________________________\n",
      " Layer (type)                Output Shape              Param #   \n",
      "=================================================================\n",
      " conv2d_13 (Conv2D)          (None, 224, 224, 64)      1792      \n",
      "                                                                 \n",
      " conv2d_14 (Conv2D)          (None, 224, 224, 64)      36928     \n",
      "                                                                 \n",
      " max_pooling2d_5 (MaxPoolin  (None, 112, 112, 64)      0         \n",
      " g2D)                                                            \n",
      "                                                                 \n",
      " conv2d_15 (Conv2D)          (None, 112, 112, 128)     73856     \n",
      "                                                                 \n",
      " conv2d_16 (Conv2D)          (None, 112, 112, 128)     147584    \n",
      "                                                                 \n",
      " max_pooling2d_6 (MaxPoolin  (None, 56, 56, 128)       0         \n",
      " g2D)                                                            \n",
      "                                                                 \n",
      " conv2d_17 (Conv2D)          (None, 56, 56, 256)       295168    \n",
      "                                                                 \n",
      " conv2d_18 (Conv2D)          (None, 56, 56, 256)       590080    \n",
      "                                                                 \n",
      " conv2d_19 (Conv2D)          (None, 56, 56, 256)       590080    \n",
      "                                                                 \n",
      " max_pooling2d_7 (MaxPoolin  (None, 28, 28, 256)       0         \n",
      " g2D)                                                            \n",
      "                                                                 \n",
      " conv2d_20 (Conv2D)          (None, 28, 28, 256)       590080    \n",
      "                                                                 \n",
      " conv2d_21 (Conv2D)          (None, 28, 28, 256)       590080    \n",
      "                                                                 \n",
      " conv2d_22 (Conv2D)          (None, 28, 28, 256)       590080    \n",
      "                                                                 \n",
      " max_pooling2d_8 (MaxPoolin  (None, 14, 14, 256)       0         \n",
      " g2D)                                                            \n",
      "                                                                 \n",
      " conv2d_23 (Conv2D)          (None, 14, 14, 512)       1180160   \n",
      "                                                                 \n",
      " conv2d_24 (Conv2D)          (None, 14, 14, 512)       2359808   \n",
      "                                                                 \n",
      " conv2d_25 (Conv2D)          (None, 14, 14, 512)       2359808   \n",
      "                                                                 \n",
      " max_pooling2d_9 (MaxPoolin  (None, 7, 7, 512)         0         \n",
      " g2D)                                                            \n",
      "                                                                 \n",
      " flatten_1 (Flatten)         (None, 25088)             0         \n",
      "                                                                 \n",
      " dense_4 (Dense)             (None, 4096)              102764544 \n",
      "                                                                 \n",
      " dense_5 (Dense)             (None, 4096)              16781312  \n",
      "                                                                 \n",
      " dense_6 (Dense)             (None, 1000)              4097000   \n",
      "                                                                 \n",
      " dense_7 (Dense)             (None, 2)                 2002      \n",
      "                                                                 \n",
      "=================================================================\n",
      "Total params: 133050362 (507.55 MB)\n",
      "Trainable params: 133050362 (507.55 MB)\n",
      "Non-trainable params: 0 (0.00 Byte)\n",
      "_________________________________________________________________\n"
     ]
    }
   ],
   "source": [
    "vgg16_model=tf.keras.Sequential()\n",
    "\n",
    "# First two Convolutional layers\n",
    "# 224 X 224 X 64\n",
    "\n",
    "vgg16_model.add(tf.keras.layers.Conv2D(64,(3,3),activation='relu',padding='same',input_shape=(224,224,3)))\n",
    "vgg16_model.add(tf.keras.layers.Conv2D(64,(3,3),activation='relu',padding='same'))\n",
    "vgg16_model.add(tf.keras.layers.MaxPool2D(2,2))\n",
    "\n",
    "# Subsequent layers\n",
    "# 112 X 112 X 128\n",
    "\n",
    "for i in range(2):\n",
    "    vgg16_model.add(tf.keras.layers.Conv2D(128,(3,3),activation='relu',padding='same'))\n",
    "vgg16_model.add(tf.keras.layers.MaxPool2D(2,2))\n",
    "\n",
    "# 56 X 56 X 256\n",
    "\n",
    "for i in range(3):\n",
    "    vgg16_model.add(tf.keras.layers.Conv2D(256,(3,3),activation='relu',padding='same'))\n",
    "vgg16_model.add(tf.keras.layers.MaxPool2D(2,2))\n",
    "\n",
    "# 28 X 28 X 512\n",
    "\n",
    "for i in range(3):\n",
    "    vgg16_model.add(tf.keras.layers.Conv2D(256,(3,3),activation='relu',padding='same'))\n",
    "vgg16_model.add(tf.keras.layers.MaxPool2D(2,2))\n",
    "\n",
    "# 14 X 14 X 512\n",
    "\n",
    "for i in range(3):\n",
    "    vgg16_model.add(tf.keras.layers.Conv2D(512,(3,3),activation='relu',padding='same'))\n",
    "vgg16_model.add(tf.keras.layers.MaxPool2D(2,2))\n",
    "\n",
    "# flaten layer\n",
    "vgg16_model.add(tf.keras.layers.Flatten())\n",
    "\n",
    "# Fully Connected Layers\n",
    "\n",
    "for i in range(2):\n",
    "    vgg16_model.add(tf.keras.layers.Dense(4096,activation=\"relu\"))\n",
    "\n",
    "vgg16_model.add(tf.keras.layers.Dense(1000,activation='relu'))\n",
    "\n",
    "\n",
    "#Output Layer\n",
    "\n",
    "vgg16_model.add(tf.keras.layers.Dense(2,activation='softmax'))\n",
    "\n",
    "\n",
    "vgg16_model.summary()"
   ]
  },
  {
   "cell_type": "markdown",
   "metadata": {},
   "source": [
    "Compile MOdel"
   ]
  },
  {
   "cell_type": "code",
   "execution_count": 10,
   "metadata": {},
   "outputs": [],
   "source": [
    "vgg16_model.compile(\n",
    "    optimizer='adam',\n",
    "    loss='sparse_categorical_crossentropy',\n",
    "    metrics=['accuracy']\n",
    ")"
   ]
  },
  {
   "cell_type": "markdown",
   "metadata": {},
   "source": [
    "TRain the Model"
   ]
  },
  {
   "cell_type": "code",
   "execution_count": 11,
   "metadata": {},
   "outputs": [
    {
     "name": "stdout",
     "output_type": "stream",
     "text": [
      "Epoch 1/10\n",
      "34/34 [==============================] - 779s 23s/step - loss: 0.4631 - accuracy: 0.8391 - val_loss: 0.3972 - val_accuracy: 0.8644\n",
      "Epoch 2/10\n",
      "34/34 [==============================] - 1619s 48s/step - loss: 0.4807 - accuracy: 0.8645 - val_loss: 0.4326 - val_accuracy: 0.8644\n",
      "Epoch 3/10\n",
      "34/34 [==============================] - 886s 26s/step - loss: 0.4184 - accuracy: 0.8645 - val_loss: 0.3991 - val_accuracy: 0.8644\n",
      "Epoch 4/10\n",
      "34/34 [==============================] - 956s 28s/step - loss: 0.4014 - accuracy: 0.8645 - val_loss: 0.3976 - val_accuracy: 0.8644\n",
      "Epoch 5/10\n",
      "34/34 [==============================] - 960s 28s/step - loss: 0.4026 - accuracy: 0.8645 - val_loss: 0.3969 - val_accuracy: 0.8644\n",
      "Epoch 6/10\n",
      "34/34 [==============================] - 985s 29s/step - loss: 0.4007 - accuracy: 0.8645 - val_loss: 0.3991 - val_accuracy: 0.8644\n",
      "Epoch 7/10\n",
      "34/34 [==============================] - 938s 28s/step - loss: 0.3990 - accuracy: 0.8645 - val_loss: 0.4000 - val_accuracy: 0.8644\n",
      "Epoch 8/10\n",
      "34/34 [==============================] - 1116s 33s/step - loss: 0.3996 - accuracy: 0.8645 - val_loss: 0.4019 - val_accuracy: 0.8644\n",
      "Epoch 9/10\n",
      "34/34 [==============================] - 1140s 34s/step - loss: 0.3999 - accuracy: 0.8645 - val_loss: 0.3987 - val_accuracy: 0.8644\n",
      "Epoch 10/10\n",
      "34/34 [==============================] - 1072s 32s/step - loss: 0.3979 - accuracy: 0.8645 - val_loss: 0.4001 - val_accuracy: 0.8644\n"
     ]
    }
   ],
   "source": [
    "history=vgg16_model.fit(\n",
    "    train_generator,\n",
    "    epochs=10,\n",
    "    steps_per_epoch=len(train_generator),\n",
    "    validation_data=test_generator,\n",
    "    validation_steps=len(test_generator)\n",
    "\n",
    ")"
   ]
  },
  {
   "cell_type": "markdown",
   "metadata": {},
   "source": [
    "Plotting"
   ]
  },
  {
   "cell_type": "code",
   "execution_count": 13,
   "metadata": {},
   "outputs": [],
   "source": [
    "import matplotlib.pyplot as plt"
   ]
  },
  {
   "cell_type": "markdown",
   "metadata": {},
   "source": []
  },
  {
   "cell_type": "code",
   "execution_count": 14,
   "metadata": {},
   "outputs": [
    {
     "data": {
      "image/png": "[encoded data removed]",
      "text/plain": [
       "<Figure size 640x480 with 1 Axes>"
      ]
     },
     "metadata": {},
     "output_type": "display_data"
    }
   ],
   "source": [
    "\n",
    "\n",
    "plt.plot(history.history['accuracy'])\n",
    "plt.plot(history.history['val_accuracy'])\n",
    "plt.xlabel(\"Epochs\")\n",
    "plt.ylabel(\"Accuracy\")\n",
    "plt.title(\"Model Accuracy\")\n",
    "plt.legend(['Train','Test'])\n",
    "plt.show()"
   ]
  },
  {
   "cell_type": "code",
   "execution_count": 15,
   "metadata": {},
   "outputs": [
    {
     "data": {
      "image/png": "[encoded data removed]",
      "text/plain": [
       "<Figure size 640x480 with 1 Axes>"
      ]
     },
     "metadata": {},
     "output_type": "display_data"
    }
   ],
   "source": [
    "plt.plot(history.history['loss'])\n",
    "plt.plot(history.history['val_loss'])\n",
    "plt.xlabel(\"Epochs\")\n",
    "plt.ylabel(\"Loss\")\n",
    "plt.title(\"Model Loss\")\n",
    "plt.legend(['Train',\"test\"])\n",
    "plt.show()"
   ]
  },
  {
   "cell_type": "code",
   "execution_count": null,
   "metadata": {},
   "outputs": [],
   "source": []
  }
 ],
 "metadata": {
  "kernelspec": {
   "display_name": "base",
   "language": "python",
   "name": "python3"
  },
  "language_info": {
   "codemirror_mode": {
    "name": "ipython",
    "version": 3
   },
   "file_extension": ".py",
   "mimetype": "text/x-python",
   "name": "python",
   "nbconvert_exporter": "python",
   "pygments_lexer": "ipython3",
   "version": "3.11.3"
  },
  "orig_nbformat": 4
 },
 "nbformat": 4,
 "nbformat_minor": 2
}
